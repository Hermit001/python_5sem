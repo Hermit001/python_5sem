{
  "nbformat": 4,
  "nbformat_minor": 0,
  "metadata": {
    "colab": {
      "provenance": [],
      "include_colab_link": true
    },
    "kernelspec": {
      "name": "python3",
      "display_name": "Python 3"
    },
    "language_info": {
      "name": "python"
    }
  },
  "cells": [
    {
      "cell_type": "markdown",
      "metadata": {
        "id": "view-in-github",
        "colab_type": "text"
      },
      "source": [
        "<a href=\"https://colab.research.google.com/github/Hermit001/python_5sem/blob/main/%D0%9F%D1%80%D0%B0%D0%BA%D1%82%D0%B8%D1%87%D0%B5%D1%81%D0%BA%D0%B0%D1%8F_%D1%80%D0%B0%D0%B1%D0%BE%D1%82%D0%B0_%E2%84%9611_%D0%92%D0%B2%D0%B5%D0%B4%D0%B5%D0%BD%D0%B8%D0%B5_%D0%B2_%D0%9E%D0%9E%D0%9F.ipynb\" target=\"_parent\"><img src=\"https://colab.research.google.com/assets/colab-badge.svg\" alt=\"Open In Colab\"/></a>"
      ]
    },
    {
      "cell_type": "markdown",
      "source": [
        "# **Практическая работа №11. Введение в ООП**\n",
        "\n",
        "\n"
      ],
      "metadata": {
        "id": "s-EuQCpnWXCn"
      }
    },
    {
      "cell_type": "markdown",
      "source": [
        "## **Задание 1. Напишите программу с классом Car**\n",
        "* Создайте конструктор класса Car.\n",
        "* Создайте атрибуты класса Car — color (цвет), type (тип), year (год).\n",
        "* Напишите пять методов:\n",
        "> 1. Запуск автомобиля (при его вызове выводится сообщение «Автомобиль заведен»)\n",
        "> 2. Отключение автомобиля (выводит сообщение «Автомобиль заглушен»)\n",
        "> 3. Присвоение автомобилю года выпуска\n",
        "> 4. Присвоение автомобилю типа\n",
        "> 5. Присвоение автомобилю цвета"
      ],
      "metadata": {
        "id": "OvDnozzI-g-6"
      }
    },
    {
      "cell_type": "code",
      "source": [
        "# Определение класса Car\n",
        "class Car:\n",
        "    # Конструктор класса Car, инициализирует атрибуты цвет, тип и год\n",
        "    def __init__(self, color, type, year):\n",
        "        self.color = color\n",
        "        self.type = type\n",
        "        self.year = year\n",
        "        self.engine_status = False  # Статус двигателя (заведен/заглушен)\n",
        "\n",
        "    # Метод для запуска автомобиля\n",
        "    def start(self):\n",
        "        if not self.engine_status:  # Проверка, не заведен ли автомобиль\n",
        "            self.engine_status = True\n",
        "            print(\"Автомобиль заведен\")\n",
        "        else:\n",
        "            print(\"Автомобиль уже заведен\")\n",
        "\n",
        "    # Метод для отключения автомобиля\n",
        "    def stop(self):\n",
        "        if self.engine_status:  # Проверка, заведен ли автомобиль\n",
        "            self.engine_status = False\n",
        "            print(\"Автомобиль заглушен\")\n",
        "        else:\n",
        "            print(\"Автомобиль уже заглушен\")\n",
        "\n",
        "    # Метод для установки года выпуска автомобиля\n",
        "    def set_year(self, new_year):\n",
        "        self.year = new_year\n",
        "\n",
        "    # Метод для установки типа автомобиля\n",
        "    def set_type(self, new_type):\n",
        "        self.type = new_type\n",
        "\n",
        "    # Метод для установки цвета автомобиля\n",
        "    def set_color(self, new_color):\n",
        "        self.color = new_color\n",
        "\n",
        "# Создание объекта класса Car с начальными параметрами\n",
        "my_car = Car(\"синий\", \"седан\", 2020)\n",
        "\n",
        "# Основной цикл программы\n",
        "while True:\n",
        "    # Вывод меню для пользователя\n",
        "    print(\"\\nВыберите действие:\")\n",
        "    print(\"1. Запустить автомобиль\")\n",
        "    print(\"2. Остановить автомобиль\")\n",
        "    print(\"3. Присвоить год выпуска\")\n",
        "    print(\"4. Присвоить тип\")\n",
        "    print(\"5. Выйти\")\n",
        "\n",
        "    # Запрос выбора у пользователя\n",
        "    choice = input(\"Введите номер действия: \")\n",
        "\n",
        "    if choice == \"1\":\n",
        "        my_car.start()\n",
        "    elif choice == \"2\":\n",
        "        my_car.stop()\n",
        "    elif choice == \"3\":\n",
        "        new_year = input(\"Введите новый год выпуска: \")\n",
        "        my_car.set_year(new_year)\n",
        "    elif choice == \"4\":\n",
        "        new_type = input(\"Введите новый тип: \")\n",
        "        my_car.set_type(new_type)\n",
        "    elif choice == \"5\":\n",
        "        # Вывод характеристик автомобиля перед выходом\n",
        "        print(f\"\\nХарактеристики автомобиля:\")\n",
        "        print(f\"Цвет: {my_car.color}\")\n",
        "        print(f\"Тип: {my_car.type}\")\n",
        "        print(f\"Год выпуска: {my_car.year}\")\n",
        "        break  # Выход из цикла при выборе \"Выйти\"\n",
        "    else:\n",
        "        print(\"Неверный выбор. Пожалуйста, выберите действие из списка.\")\n"
      ],
      "metadata": {
        "id": "xMYBjxjy-hIE"
      },
      "execution_count": null,
      "outputs": []
    },
    {
      "cell_type": "markdown",
      "source": [
        "## **Задание 2. Создайте класс Sphere для представления сферы в трехмерном пространстве**\n"
      ],
      "metadata": {
        "id": "TQ5SpdjdbD4D"
      }
    },
    {
      "cell_type": "markdown",
      "source": [
        "Обеспечьте следующие методы класса:\n",
        "\n",
        "1. Конструктор, принимающий 4 действительных числа: радиус, и 3 координаты центра шара. Если конструктор вызывается без аргументов, создать объект сферы с единичным радиусом и центром в начале координат. Если конструктор вызывается с аргументом, создать объект сферы с соответствующим радиусом и центром в начале координат.\n",
        "\n",
        "2. Метод get_volume (), который возвращает действительное число — объем шара, ограниченной текущей сферой.\n",
        "\n",
        "3. Метод get_square (), который возвращает действительное число — площадь внешней поверхности сферы.\n",
        "\n",
        "4. Метод get_radius (), который возвращает действительное число — радиус сферы.\n",
        "\n",
        "5. Метод get_center (), который возвращает тьюпл с 3 действительными числами — координатами центра сферы в том же порядке, в каком они задаются в конструкторе.\n",
        "\n",
        "6. Метод set_radius (r), который принимает 1 аргумент — действительное число, и меняет радиус текущей сферы, ничего не возвращая.\n",
        "\n",
        "7. Метод set_center (x, y, z), который принимает 3 аргумента — действительных числа, и меняет координаты центра сферы, ничего не возвращая. Координаты задаются в том же порядке, что и в конструкторе.\n",
        "\n",
        "8. Метод is_point_inside (x, y, z), который принимает 3 аргумента — действительных числа — координаты некоторой точки в пространстве (в том же порядке, что и в конструкторе), и возвращает логическое значение True или False в зависимости от того, находится эта точка внутри сферы."
      ],
      "metadata": {
        "id": "Q5Ow51wfASZH"
      }
    },
    {
      "cell_type": "code",
      "source": [
        "# Тесты\n",
        "\n",
        "s0 = Sphere(0.5) # test sphere creation with radius and default center\n",
        "print(s0.get_center()) # (0.0, 0.0, 0.0)\n",
        "print(s0.get_volume()) # 0.523598775598\n",
        "print(s0.is_point_inside(0 , -1.5, 0)) # False\n",
        "s0.set_radius(1.6)\n",
        "print(s0.is_point_inside(0, -1.5, 0)) # True\n",
        "print(s0.get_radius()) # 1.6"
      ],
      "metadata": {
        "id": "xYx3bR2Lbv42"
      },
      "execution_count": null,
      "outputs": []
    },
    {
      "cell_type": "code",
      "source": [
        "class Sphere:\n",
        "    def __init__(self):\n",
        "        # Запрос радиуса и координат центра у пользователя\n",
        "        self.radius = float(input(\"Введите радиус сферы: \"))\n",
        "        self.x = float(input(\"Введите координату X центра сферы: \"))\n",
        "        self.y = float(input(\"Введите координату Y центра сферы: \"))\n",
        "        self.z = float(input(\"Введите координату Z центра сферы: \"))\n",
        "\n",
        "    def get_volume(self):\n",
        "        # Реализация метода get_volume\n",
        "        return (4/3) * 3.14159265359 * self.radius**3\n",
        "\n",
        "    def get_square(self):\n",
        "        # Реализация метода get_square\n",
        "        return 4 * 3.14159265359 * self.radius**2\n",
        "\n",
        "    def get_radius(self):\n",
        "        # Реализация метода get_radius\n",
        "        return self.radius\n",
        "\n",
        "    def get_center(self):\n",
        "        # Реализация метода get_center\n",
        "        return (self.x, self.y, self.z)\n",
        "\n",
        "    def set_radius(self, r):\n",
        "        # Реализация метода set_radius\n",
        "        self.radius = r\n",
        "\n",
        "    def set_center(self, x, y, z):\n",
        "        # Реализация метода set_center\n",
        "        self.x = x\n",
        "        self.y = y\n",
        "        self.z = z\n",
        "\n",
        "    def is_point_inside(self, x, y, z):\n",
        "        # Реализация метода is_point_inside\n",
        "        distance = ((x - self.x)**2 + (y - self.y)**2 + (z - self.z)**2)**0.5\n",
        "        return distance <= self.radius\n",
        "\n",
        "# Создаем объект сферы с данными, введенными пользователем\n",
        "my_sphere = Sphere()\n",
        "\n",
        "# Выводим радиус и координаты центра сферы\n",
        "print(\"Радиус сферы:\", my_sphere.get_radius())\n",
        "print(\"Координаты центра сферы:\", my_sphere.get_center())\n",
        "\n",
        "# Вычисляем и выводим объем и площадь сферы\n",
        "print(\"Объем сферы:\", my_sphere.get_volume())\n",
        "print(\"Площадь поверхности сферы:\", my_sphere.get_square())\n",
        "\n",
        "# Запрашиваем новый радиус и устанавливаем его\n",
        "new_radius = float(input(\"Введите новый радиус сферы: \"))\n",
        "my_sphere.set_radius(new_radius)\n",
        "\n",
        "# Выводим радиус после изменения\n",
        "print(\"Новый радиус сферы:\", my_sphere.get_radius())\n",
        "\n",
        "# Запрашиваем новые координаты центра и устанавливаем их\n",
        "new_x = float(input(\"Введите новую координату X центра сферы: \"))\n",
        "new_y = float(input(\"Введите новую координату Y центра сферы: \"))\n",
        "new_z = float(input(\"Введите новую координату Z центра сферы: \"))\n",
        "my_sphere.set_center(new_x, new_y, new_z)\n",
        "\n",
        "# Выводим новые координаты центра\n",
        "print(\"Новые координаты центра сферы:\", my_sphere.get_center())\n",
        "\n",
        "# Запрашиваем координаты точки и проверяем, находится ли она внутри сферы\n",
        "point_x = float(input(\"Введите координату X точки: \"))\n",
        "point_y = float(input(\"Введите координату Y точки: \"))\n",
        "point_z = float(input(\"Введите координату Z точки: \"))\n",
        "if my_sphere.is_point_inside(point_x, point_y, point_z):\n",
        "    print(\"Точка находится внутри сферы.\")\n",
        "else:\n",
        "    print(\"Точка находится снаружи сферы.\")"
      ],
      "metadata": {
        "id": "d-vd-AYRdBId"
      },
      "execution_count": null,
      "outputs": []
    },
    {
      "cell_type": "markdown",
      "source": [
        "## **Задание 3. Создайте класс SuperStr, который наследует функциональность стандартного типа str и содержит 2 новых метода:**"
      ],
      "metadata": {
        "id": "UuJ9K_zAcaY_"
      }
    },
    {
      "cell_type": "markdown",
      "source": [
        "1. Метод is_repeatance (s), который принимает 1 аргумент s и возвращает True или False в зависимости от того, может ли текущая строку быть получена целым количеством повторов строки s. Вернуть False, если s не является строкой. Считать, что пустая строка не содержит повторов.\n",
        "\n",
        "2. Метод is_palindrom (), который возвращает True или False в зависимости от того, является ли строка палиндромом. Регистрами символов пренебрегать. Пустую строку считать палиндромом."
      ],
      "metadata": {
        "id": "GX99X81VchPW"
      }
    },
    {
      "cell_type": "code",
      "source": [
        "class SuperStr(str):\n",
        "    def is_repeatance(self, s):\n",
        "        if not isinstance(s, str) or not s:\n",
        "            return False\n",
        "        return self == s * (len(self) // len(s))\n",
        "\n",
        "    def is_palindrome(self):\n",
        "        s = self.lower()\n",
        "        return s == s[::-1]\n",
        "\n",
        "# Пример использования\n",
        "s = SuperStr(\"abcabcabc\")\n",
        "print(s.is_repeatance(\"abc\"))  # True\n",
        "print(s.is_repeatance(\"ab\"))   # False\n",
        "print(s.is_repeatance(\"a\"))    # True\n",
        "print(s.is_palindrome())       # False\n",
        "\n",
        "palindrome_str = SuperStr(\"Tenet\")\n",
        "print(palindrome_str.is_palindrome())  # True"
      ],
      "metadata": {
        "id": "LtIAKDWFdEcr"
      },
      "execution_count": null,
      "outputs": []
    },
    {
      "cell_type": "code",
      "source": [
        "# Тесты\n",
        "\n",
        "s = SuperStr(\"123123123123\")\n",
        "print(s.is_repeatance(\"123\")) # True\n",
        "print(s.is_repeatance(\"123123\")) # True\n",
        "print(s.is_repeatance(\"123123123123\")) # True\n",
        "print(s.is_repeatance(\"12312\")) # False\n",
        "print(s.is_repeatance(123)) # False\n",
        "print(s.is_palindrom()) # False\n",
        "print(s) # 123123123123 (строка)\n",
        "print(int(s)) # 123123123123 (целое число)\n",
        "print(s + \"qwe\") # 123123123123qwe\n",
        "p = SuperStr(\"123_321\")\n",
        "print(p.is_palindrom()) # True"
      ],
      "metadata": {
        "id": "oRO3alwicoNp"
      },
      "execution_count": null,
      "outputs": []
    },
    {
      "cell_type": "markdown",
      "source": [
        "## **Задание 4. В коде ниже представлен класс преподавателей и класс студентов (вы можете взять этот код за основу или написать свой).**"
      ],
      "metadata": {
        "id": "m9EGwLY9jZbw"
      }
    },
    {
      "cell_type": "code",
      "source": [
        "class Student:\n",
        "    def __init__(self, name, surname, gender):\n",
        "        self.name = name\n",
        "        self.surname = surname\n",
        "        self.gender = gender\n",
        "        self.finished_courses = []\n",
        "        self.courses_in_progress = []\n",
        "        self.grades = {}\n",
        "\n",
        "    def add_courses(self, course_name):\n",
        "        self.finished_courses.append(course_name)\n",
        "\n",
        "\n",
        "class Mentor:\n",
        "    def __init__(self, name, surname):\n",
        "        self.name = name\n",
        "        self.surname = surname\n",
        "        self.courses_attached = []\n",
        "\n",
        "    def rate_hw(self, student, course, grade):\n",
        "        student.grades[course] = [grade]"
      ],
      "metadata": {
        "id": "PlqK9m7KrT6e"
      },
      "execution_count": null,
      "outputs": []
    },
    {
      "cell_type": "code",
      "source": [
        "best_student = Student('Ruoy', 'Eman', 'your_gender')\n",
        "cool_mentor = Mentor('Some', 'Buddy')\n",
        "cool_mentor.rate_hw(best_student, 'Python', 10)\n",
        "\n",
        "print(\"Имя студента: \", best_student.name)\n",
        "print(\"Имя преподавателя: \", cool_mentor.name)\n",
        "print(\"Оценки студента по курсам: \", best_student.grades)"
      ],
      "metadata": {
        "colab": {
          "base_uri": "https://localhost:8080/"
        },
        "id": "oNc1-dVaw3ee",
        "outputId": "7621e159-5ac4-48a7-8318-886013ba7692"
      },
      "execution_count": null,
      "outputs": [
        {
          "output_type": "stream",
          "name": "stdout",
          "text": [
            "Имя студента:  Ruoy\n",
            "Имя преподавателя:  Some\n",
            "Оценки студента по курсам:  {'Python': [10]}\n"
          ]
        }
      ]
    },
    {
      "cell_type": "markdown",
      "source": [
        "### **4.1. Наследование**"
      ],
      "metadata": {
        "id": "08FkYxULrxE-"
      }
    },
    {
      "cell_type": "markdown",
      "source": [
        "* Класс Mentor должен стать родительским классом для преподавателей. От него нужно реализовать наследование классов Lecturer (лекторы) и Reviewer (эксперты, проверяющие домашние задания).\n",
        "\n",
        "> Имя, фамилю и список закрепленных курсов логично реализовать на уровне родительского класса."
      ],
      "metadata": {
        "id": "YNjsCv5ItOii"
      }
    },
    {
      "cell_type": "code",
      "source": [
        "# Ваш код"
      ],
      "metadata": {
        "id": "1quZPRZKtIoc"
      },
      "execution_count": null,
      "outputs": []
    },
    {
      "cell_type": "markdown",
      "source": [
        "### **4.2. Атрибуты и взаимодействие классов**"
      ],
      "metadata": {
        "id": "oL8kB-uUtH5K"
      }
    },
    {
      "cell_type": "markdown",
      "source": [
        "* Реализуйте возможность проставления оценок студентам только Reviewer-ам (реализуйте такой метод).\n",
        "\n",
        "* Реализуйте метод выставления оценок лекторам у класса Student (оценки по 10-балльной шкале, хранятся в атрибуте-словаре у Lecturer, в котором ключи – названия курсов, а значения – списки оценок). Лектор при этом должен быть закреплен за тем курсом, на который записан студент (реализовать проверку)."
      ],
      "metadata": {
        "id": "ddcuJFCksWsY"
      }
    },
    {
      "cell_type": "code",
      "source": [
        "# Ваш код"
      ],
      "metadata": {
        "id": "U30yyvuirv6H"
      },
      "execution_count": null,
      "outputs": []
    },
    {
      "cell_type": "markdown",
      "source": [
        "### **4.3. Полиморфизм и магические методы**"
      ],
      "metadata": {
        "id": "i6PrwEBSu39u"
      }
    },
    {
      "cell_type": "markdown",
      "source": [
        "Перегрузите магический метод \\_\\_str__ у всех классов.\n",
        "У проверяющих он должен выводить информацию в следующем виде:\n",
        "\n",
        "\n",
        "\n",
        "```\n",
        "print(some_reviewer)\n",
        "Имя: Some\n",
        "Фамилия: Buddy\n",
        "```\n",
        "\n",
        "У лекторов:\n",
        "\n",
        "\n",
        "\n",
        "```\n",
        "print(some_lecturer)\n",
        "Имя: Some\n",
        "Фамилия: Buddy\n",
        "Средняя оценка за лекции: 9.9\n",
        "```\n",
        "\n",
        "А у студентов так:\n",
        "\n",
        "\n",
        "\n",
        "```\n",
        "print(some_student)\n",
        "Имя: Ruoy\n",
        "Фамилия: Eman\n",
        "Средняя оценка за домашние задания: 9.9\n",
        "Курсы в процессе изучения: Python, Git\n",
        "Завершенные курсы: Введение в программирование\n",
        "```\n",
        "\n",
        "\n",
        "\n"
      ],
      "metadata": {
        "id": "GvmtjlnmvF8b"
      }
    },
    {
      "cell_type": "code",
      "source": [
        "# Ваш код"
      ],
      "metadata": {
        "id": "gCJAL_EmwU0b"
      },
      "execution_count": null,
      "outputs": []
    },
    {
      "cell_type": "markdown",
      "source": [
        "**Реализуйте перегрузку других магических методов на Ваш выбор (не менее трёх), из тех, что были изучены на паре, руководствуясь по смыслу контекстом представленных классов (студенты, преподаватели, оценки и т.д.)**"
      ],
      "metadata": {
        "id": "1DNE4TE3vfYI"
      }
    },
    {
      "cell_type": "code",
      "source": [
        "# Ваш код"
      ],
      "metadata": {
        "id": "WNCf9PPMu4Gv"
      },
      "execution_count": null,
      "outputs": []
    },
    {
      "cell_type": "markdown",
      "source": [
        "### **4.4. Тестирование**\n",
        "\n",
        "Создайте по 2 экземпляра каждого класса, вызовите все созданные методы, а также реализуйте две функции:\n",
        "\n",
        "* для подсчета средней оценки за домашние задания по всем студентам в рамках конкретного курса (в качестве аргументов принимаем список студентов и название курса);\n",
        "* для подсчета средней оценки за лекции всех лекторов в рамках курса (в качестве аргумента принимаем список лекторов и название курса)."
      ],
      "metadata": {
        "id": "X8xvLNT6u4Nn"
      }
    },
    {
      "cell_type": "code",
      "source": [
        "class Person:\n",
        "    def __init__(self, name, surname):\n",
        "        self.name = name\n",
        "        self.surname = surname\n",
        "\n",
        "    def __str__(self):\n",
        "        return f\"Имя: {self.name}\\nФамилия: {self.surname}\"\n",
        "\n",
        "class Reviewer(Person):\n",
        "    def __init__(self, name, surname):\n",
        "        super().__init__(name, surname)\n",
        "        self.courses_attached = []\n",
        "\n",
        "    def rate_hw(self, student, course, grade):\n",
        "        if isinstance(student, Student) and course in self.courses_attached and 1 <= grade <= 10:\n",
        "            if course in student.grades:\n",
        "                student.grades[course].append(grade)\n",
        "            else:\n",
        "                student.grades[course] = [grade]\n",
        "        else:\n",
        "            return \"Ошибка при выставлении оценки\"\n",
        "\n",
        "class Lecturer(Person):\n",
        "    def __init__(self, name, surname):\n",
        "        super().__init__(name, surname)\n",
        "        self.courses_attached = []\n",
        "        self.grades = {}\n",
        "\n",
        "    def __str__(self):\n",
        "        return super().__str__() + f\"\\nСредняя оценка за лекции: {self.calculate_average_grade()}\"\n",
        "\n",
        "    def calculate_average_grade(self):\n",
        "        total_grade = 0\n",
        "        count = 0\n",
        "        for grades in self.grades.values():\n",
        "            total_grade += sum(grades)\n",
        "            count += len(grades)\n",
        "        if count > 0:\n",
        "            return round(total_grade / count, 1)\n",
        "        else:\n",
        "            return 0\n",
        "\n",
        "class Student(Person):\n",
        "    def __init__(self, name, surname):\n",
        "        super().__init__(name, surname)\n",
        "        self.courses_in_progress = []\n",
        "        self.finished_courses = []\n",
        "        self.grades = {}\n",
        "\n",
        "    def __str__(self):\n",
        "        courses_in_progress = ', '.join(self.courses_in_progress)\n",
        "        finished_courses = ', '.join(self.finished_courses)\n",
        "        if self.grades:\n",
        "            average_grade = sum(sum(grades) for grades in self.grades.values()) / len(self.grades)\n",
        "        else:\n",
        "            average_grade = 0\n",
        "        return super().__str__() + f\"\\nСредняя оценка за домашние задания: {average_grade}\\nКурсы в процессе изучения: {courses_in_progress}\\nЗавершенные курсы: {finished_courses}\"\n",
        "\n",
        "    def rate_lecture(self, lecturer, course, grade):\n",
        "        if isinstance(lecturer, Lecturer) and course in self.courses_in_progress and 1 <= grade <= 10:\n",
        "            if course in lecturer.grades:\n",
        "                lecturer.grades[course].append(grade)\n",
        "            else:\n",
        "                lecturer.grades[course] = [grade]\n",
        "        else:\n",
        "            return \"Ошибка при выставлении оценки\"\n",
        "\n",
        "\n",
        "class Student(Person):\n",
        "    def __init__(self, name, surname):\n",
        "        super().__init__(name, surname)\n",
        "        self.courses_in_progress = []\n",
        "        self.finished_courses = []\n",
        "        self.grades = {}\n",
        "\n",
        "    def __str__(self):\n",
        "        courses_in_progress = ', '.join(self.courses_in_progress)\n",
        "        finished_courses = ', '.join(self.finished_courses)\n",
        "        if self.grades:\n",
        "            average_grade = sum(sum(grades) for grades in self.grades.values()) / len(self.grades)\n",
        "        else:\n",
        "            average_grade = 0\n",
        "        return super().__str__() + f\"\\nСредняя оценка за домашние задания: {average_grade}\\nКурсы в процессе изучения: {courses_in_progress}\\nЗавершенные курсы: {finished_courses}\"\n",
        "\n",
        "    def rate_lecture(self, lecturer, course, grade):\n",
        "        if isinstance(lecturer, Lecturer) and course in self.courses_in_progress and 1 <= grade <= 10:\n",
        "            if course in lecturer.grades:\n",
        "                lecturer.grades[course].append(grade)\n",
        "            else:\n",
        "                lecturer.grades[course] = [grade]\n",
        "        else:\n",
        "            return \"Ошибка при выставлении оценки\"\n",
        "\n",
        "def average_grade_for_course(students, course_name):\n",
        "    total_grade = 0\n",
        "    count = 0\n",
        "    for student in students:\n",
        "        if course_name in student.grades:\n",
        "            total_grade += sum(student.grades[course_name])\n",
        "            count += len(student.grades[course_name])\n",
        "    if count > 0:\n",
        "        return round(total_grade / count, 1)\n",
        "    else:\n",
        "        return 0\n",
        "\n",
        "def average_grade_for_lectures(lecturers, course_name):\n",
        "    total_grade = 0\n",
        "    count = 0\n",
        "    for lecturer in lecturers:\n",
        "        if course_name in lecturer.grades:\n",
        "            total_grade += sum(lecturer.grades[course_name])\n",
        "            count += len(lecturer.grades[course_name])\n",
        "    if count > 0:\n",
        "        return round(total_grade / count, 1)\n",
        "    else:\n",
        "        return 0\n",
        "\n",
        "# Создаем студентов\n",
        "student1 = Student('Ruoy', 'Eman')\n",
        "student1.courses_in_progress.append('Python')\n",
        "student1.finished_courses.append('Введение в программирование')\n",
        "\n",
        "student2 = Student('John', 'Doe')\n",
        "student2.courses_in_progress.append('Git')\n",
        "student2.finished_courses.append('Python')\n",
        "\n",
        "# Создаем лекторов\n",
        "lecturer1 = Lecturer('Some', 'Lecturer')\n",
        "lecturer1.courses_attached.append('Python')\n",
        "\n",
        "lecturer2 = Lecturer('Another', 'Lecturer')\n",
        "lecturer2.courses_attached.append('Git')\n",
        "\n",
        "# Создаем ревьюеров\n",
        "reviewer1 = Reviewer('Some', 'Reviewer')\n",
        "reviewer1.courses_attached.append('Python')\n",
        "\n",
        "reviewer2 = Reviewer('Another', 'Reviewer')\n",
        "reviewer2.courses_attached.append('Git')\n",
        "\n",
        "# Выставляем оценки студентам\n",
        "reviewer1.rate_hw(student1, 'Python', 9)\n",
        "reviewer2.rate_hw(student1, 'Python', 8)\n",
        "reviewer1.rate_hw(student2, 'Git', 10)\n",
        "reviewer2.rate_hw(student2, 'Git', 7)\n",
        "\n",
        "# Выставляем оценки лекторам\n",
        "student1.rate_lecture(lecturer1, 'Python', 9)\n",
        "student2.rate_lecture(lecturer2, 'Git', 10)\n",
        "\n",
        "# Выводим информацию\n",
        "print(\"Информация о студентах:\")\n",
        "print(student1)\n",
        "print(\"\\n\")\n",
        "print(student2)\n",
        "print(\"\\n\")\n",
        "\n",
        "print(\"Информация о лекторах:\")\n",
        "print(lecturer1)\n",
        "print(\"\\n\")\n",
        "print(lecturer2)\n",
        "print(\"\\n\")\n",
        "\n",
        "print(\"Информация о ревьюерах:\")\n",
        "print(reviewer1)\n",
        "print(\"\\n\")\n",
        "print(reviewer2)\n",
        "print(\"\\n\")\n",
        "\n",
        "print(f\"Средняя оценка за домашние задания по курсу 'Python': {average_grade_for_course([student1, student2], 'Python')}\")\n",
        "print(f\"Средняя оценка за лекции по курсу 'Git': {average_grade_for_lectures([lecturer1, lecturer2], 'Git')}\")"
      ],
      "metadata": {
        "id": "uh8n08fdu4V_",
        "outputId": "573569f6-6403-4d84-d676-c85787dc4af2",
        "colab": {
          "base_uri": "https://localhost:8080/"
        }
      },
      "execution_count": 1,
      "outputs": [
        {
          "output_type": "stream",
          "name": "stdout",
          "text": [
            "Информация о студентах:\n",
            "Имя: Ruoy\n",
            "Фамилия: Eman\n",
            "Средняя оценка за домашние задания: 9.0\n",
            "Курсы в процессе изучения: Python\n",
            "Завершенные курсы: Введение в программирование\n",
            "\n",
            "\n",
            "Имя: John\n",
            "Фамилия: Doe\n",
            "Средняя оценка за домашние задания: 7.0\n",
            "Курсы в процессе изучения: Git\n",
            "Завершенные курсы: Python\n",
            "\n",
            "\n",
            "Информация о лекторах:\n",
            "Имя: Some\n",
            "Фамилия: Lecturer\n",
            "Средняя оценка за лекции: 9.0\n",
            "\n",
            "\n",
            "Имя: Another\n",
            "Фамилия: Lecturer\n",
            "Средняя оценка за лекции: 10.0\n",
            "\n",
            "\n",
            "Информация о ревьюерах:\n",
            "Имя: Some\n",
            "Фамилия: Reviewer\n",
            "\n",
            "\n",
            "Имя: Another\n",
            "Фамилия: Reviewer\n",
            "\n",
            "\n",
            "Средняя оценка за домашние задания по курсу 'Python': 9.0\n",
            "Средняя оценка за лекции по курсу 'Git': 10.0\n"
          ]
        }
      ]
    }
  ]
}